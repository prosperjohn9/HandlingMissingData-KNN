{
  "nbformat": 4,
  "nbformat_minor": 0,
  "metadata": {
    "colab": {
      "provenance": [],
      "authorship_tag": "ABX9TyNqDHDB0Hy57BgFGZsKOEnh",
      "include_colab_link": true
    },
    "kernelspec": {
      "name": "python3",
      "display_name": "Python 3"
    },
    "language_info": {
      "name": "python"
    }
  },
  "cells": [
    {
      "cell_type": "markdown",
      "metadata": {
        "id": "view-in-github",
        "colab_type": "text"
      },
      "source": [
        "<a href=\"https://colab.research.google.com/github/prosperjohn9/HandlingMissingData-KNN/blob/main/HandlingMissingData_KNN.ipynb\" target=\"_parent\"><img src=\"https://colab.research.google.com/assets/colab-badge.svg\" alt=\"Open In Colab\"/></a>"
      ]
    },
    {
      "cell_type": "code",
      "execution_count": null,
      "metadata": {
        "colab": {
          "base_uri": "https://localhost:8080/"
        },
        "id": "rwJ9eoRaLETq",
        "outputId": "da75c67f-2f9e-4f2d-d8e2-f1d1b033d4e8"
      },
      "outputs": [
        {
          "output_type": "stream",
          "name": "stdout",
          "text": [
            "Original Dataset:\n",
            "   Feature1  Feature2  Feature3\n",
            "0       1.0       6.0      11.0\n",
            "1       2.0       NaN      12.0\n",
            "2       NaN       8.0      13.0\n",
            "3       4.0       NaN       NaN\n",
            "4       5.0      10.0      15.0\n",
            "\n",
            "Imputed Dataset:\n",
            "   Feature1  Feature2  Feature3\n",
            "0       1.0       6.0      11.0\n",
            "1       2.0       8.0      12.0\n",
            "2       3.0       8.0      13.0\n",
            "3       4.0       8.0      13.0\n",
            "4       5.0      10.0      15.0\n"
          ]
        }
      ],
      "source": [
        "# Import necessary libraries\n",
        "import pandas as pd\n",
        "import numpy as np\n",
        "from sklearn.impute import KNNImputer\n",
        "\n",
        "# Generate a sample dataset with missing values\n",
        "data = {\n",
        "    \"Feature1\": [1, 2, np.nan, 4, 5],\n",
        "    \"Feature2\": [6, np.nan, 8, np.nan, 10],\n",
        "    \"Feature3\": [11, 12, 13, np.nan, 15]\n",
        "}\n",
        "df = pd.DataFrame(data)\n",
        "\n",
        "# Create an instance of KNNImputer\n",
        "imputer = KNNImputer(n_neighbors=3)\n",
        "\n",
        "# Perform KNN imputation\n",
        "df_imputed = pd.DataFrame(imputer.fit_transform(df), columns=df.columns)\n",
        "\n",
        "# Print the original dataset with missing values\n",
        "print(\"Original Dataset:\")\n",
        "print(df)\n",
        "print()\n",
        "\n",
        "# Print the imputed dataset\n",
        "print(\"Imputed Dataset:\")\n",
        "print(df_imputed.round())"
      ]
    }
  ]
}